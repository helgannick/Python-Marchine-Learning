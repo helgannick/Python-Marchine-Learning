{
  "nbformat": 4,
  "nbformat_minor": 0,
  "metadata": {
    "colab": {
      "provenance": []
    },
    "kernelspec": {
      "name": "python3",
      "display_name": "Python 3"
    },
    "language_info": {
      "name": "python"
    }
  },
  "cells": [
    {
      "cell_type": "code",
      "execution_count": 29,
      "metadata": {
        "id": "RFr2TSVSpfkI"
      },
      "outputs": [],
      "source": [
        "import numpy as np\n",
        "import torch\n",
        "import torch.nn.functional as f\n",
        "import torchvision\n",
        "import matplotlib.pyplot as plt\n",
        "from time import time\n",
        "from torchvision import datasets, transforms\n",
        "from torch import nn, optim "
      ]
    },
    {
      "cell_type": "code",
      "source": [
        "transform = transforms.ToTensor() #definindo a conversão de imagem para tensor\n",
        "\n",
        "trainset = datasets.MNIST('./MNIST_data/', download=True, train=True, transform=transform) # Carrega a parte de treino do dataset\n",
        "trainloader = torch.utils.data.DataLoader(trainset, batch_size=64, shuffle=True) # Cria um buffer para pegar os dados por partes\n",
        "\n",
        "valset = datasets.MNIST('./MNIST_data/', download=True, train=False, transform=transform) # Carrega a oarte de validação\n",
        "valloader = torch.utils.data.DataLoader(valset, batch_size=64, shuffle=True) # Criar um buffer para pegar os dados por partes"
      ],
      "metadata": {
        "id": "YN5QaJayqyK2"
      },
      "execution_count": 30,
      "outputs": []
    },
    {
      "cell_type": "code",
      "source": [
        "dataiter = iter(trainloader)\n",
        "imagens, etiquetas = dataiter.next()\n",
        "plt.imshow(imagens[0].numpy().squeeze(), cmap='gray_r');"
      ],
      "metadata": {
        "colab": {
          "base_uri": "https://localhost:8080/",
          "height": 265
        },
        "id": "p1H2WgpItuiu",
        "outputId": "6285868d-d306-4f03-99a1-6eef1a8bbeb6"
      },
      "execution_count": 31,
      "outputs": [
        {
          "output_type": "display_data",
          "data": {
            "text/plain": [
              "<Figure size 432x288 with 1 Axes>"
            ],
            "image/png": "[encoded data removed]"
          },
          "metadata": {
            "needs_background": "light"
          }
        }
      ]
    },
    {
      "cell_type": "code",
      "source": [
        "print(imagens[0].shape)#para verificar as dimensões do tensor de cada imagem\n",
        "print(etiquetas[0].shape)#para verificar as dimesões do tensor de cada etiqueta"
      ],
      "metadata": {
        "colab": {
          "base_uri": "https://localhost:8080/"
        },
        "id": "Q7h5xiSRvSc9",
        "outputId": "1dccbee6-ca3f-48ed-a108-5d2ffb5fd060"
      },
      "execution_count": 32,
      "outputs": [
        {
          "output_type": "stream",
          "name": "stdout",
          "text": [
            "torch.Size([1, 28, 28])\n",
            "torch.Size([])\n"
          ]
        }
      ]
    },
    {
      "cell_type": "code",
      "source": [
        "  class Modelo(nn.Module):\n",
        "    def __init__(self):\n",
        "        super(Modelo, self).__init__()\n",
        "        self.linear1 = nn.Linear(28*28, 128) # canada de entrada, 784 neurônios que se ligam a 128\n",
        "        self.linear2 = nn.Linear(128, 64) # camada interna 1, 128 neurônios que ligam a 64\n",
        "        self.linear3 = nn.Linear(64, 10) # camada interna 2, 64 neurônios que se ligam a 10\n",
        "        # para a camada de saida não e necessário definir nada pois só precisamos pega o output da camada interna 2\n",
        "\n",
        "    def forward(self,X):\n",
        "      X = F.relu(self.linear1(X)) # função de ativação da camada de entrada para a camada interna 1\n",
        "      X = F.relu(self.linear2(X)) #função de ativação da camada interna 1 para a acamada interna 2\n",
        "      X = self.linear3(X) # função de ativação da camada interna 2 para a acamada de saída. nesse caso f(x) = x\n",
        "      return F.log_softmax(X, dim=1) #dados ultilizados para calcular a perda\n",
        "      "
      ],
      "metadata": {
        "id": "Yzq9d6HrwIq0"
      },
      "execution_count": 33,
      "outputs": []
    },
    {
      "cell_type": "code",
      "source": [
        "def treino(modelo, trainloader, device):\n",
        "\n",
        "    otimizador = optim.SGD(modelo.parameters(), lr=0.01, momentum=0.5) # define a política de atualização dos pesos e da bias\n",
        "    inicio = time() # timer para sabermos quanto tempo levou o treino\n",
        "\n",
        "    criterio = nn.NLLoss() # definindo o criterio para calcular a perda\n",
        "    EPOCHS = 0 # numero de apachs que o algoritmo rodará\n",
        "    modelo.train() #ativando o mode de treinamento do modelo\n",
        "\n",
        "    for epoch in range(EPOCHS):\n",
        "        perda_acumulada = 0 # inicializção da perda acumulada da epoch em questão\n",
        "\n",
        "        for imagens, etiquetas in trainloader:\n",
        "\n",
        "          imagens = imagens.view(imagens.shape[0], -1) # convertendo as imagens para 'vetores' de 28*28 casas para ficarem comátíveis \n",
        "          otimizador.zero_grad() #zerando os gradientes por conta do ciclo anterior\n",
        "\n",
        "          output = modelo(imagens.to(device)) #colocando os dados no modelo\n",
        "\n",
        "          perda_instantanea.backward() # back propagation a partir da perda\n",
        "\n",
        "          otimizador.step() # atualizando os pesos e a bias\n",
        "\n",
        "          perda_acumulada += perda_instantanea.item() #atualização da perda acumulada\n",
        "\n",
        "\n",
        "        else:\n",
        "            print('Epoch {} - Perda resultante: {}'.format(epoch+1, perda_acumulada/len(trainloader)))\n",
        "            print('\\nTempo de treino (em minutos) =',(time()-inicio)/60)\n",
        "\n"
      ],
      "metadata": {
        "id": "ITDAtN880zuV"
      },
      "execution_count": 34,
      "outputs": []
    },
    {
      "cell_type": "code",
      "source": [
        "def validacao(modelo, valloader, device):\n",
        "    conta_corretas, conta_todas = 0, 0\n",
        "    for imagens, etiquetas in valloader:\n",
        "      for i in range(len(etiquetas)):\n",
        "        img = imagens[i].view(1,784)\n",
        "        #desativar o autograd para acelerar a validação. Grafos computacionais dinâmicos tem um custo alto de processamento\n",
        "        with torch.no_grad():\n",
        "          logps = modelo(img.to(device)) # output do modelo em escala lagaritmica\n",
        "\n",
        "\n",
        "        ps = torch.exp(logps) #converte output para escala normal(lembrando que é um tensor)\n",
        "        probab = list(ps.cpu().numpy()[0])\n",
        "        etiqueta_pred = probab.index(max(probab)) # converte o tensor em um número, no caso, o número que o modelo previu como correto\n",
        "        etiqueta_certa = etiquetas.numpy()[i]\n",
        "        if(etiqueta_certa == etiqueta_pred): #compara a previsão com o valor correto\n",
        "          conta_corretas += 1\n",
        "        conta_todas += 1\n",
        "\n",
        "    \n",
        "    print('Total de imagens testadas =', conta_todas)\n",
        "    print('\\nPrecisão do modelo = {}%'.format(conta_corretas*100/conta_todas))"
      ],
      "metadata": {
        "id": "5umUocZ_7Nst"
      },
      "execution_count": 35,
      "outputs": []
    },
    {
      "cell_type": "code",
      "source": [
        "modelo = Modelo() \n",
        "device = torch.device('cuda' if torch.cuda.is_available() else 'cpu')\n",
        "modelo.to(device)"
      ],
      "metadata": {
        "colab": {
          "base_uri": "https://localhost:8080/"
        },
        "id": "OU31G2DZ9zzl",
        "outputId": "7fe45437-f3af-4404-9489-f25799e6d489"
      },
      "execution_count": 36,
      "outputs": [
        {
          "output_type": "execute_result",
          "data": {
            "text/plain": [
              "Modelo(\n",
              "  (linear1): Linear(in_features=784, out_features=128, bias=True)\n",
              "  (linear2): Linear(in_features=128, out_features=64, bias=True)\n",
              "  (linear3): Linear(in_features=64, out_features=10, bias=True)\n",
              ")"
            ]
          },
          "metadata": {},
          "execution_count": 36
        }
      ]
    },
    {
      "cell_type": "code",
      "source": [],
      "metadata": {
        "id": "HCxWXi7T-dk1"
      },
      "execution_count": 36,
      "outputs": []
    }
  ]
}